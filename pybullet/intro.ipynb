{
 "cells": [
  {
   "cell_type": "code",
   "execution_count": 1,
   "id": "016c9a00",
   "metadata": {},
   "outputs": [],
   "source": [
    "import pybullet as p\n",
    "import time \n",
    "import pybullet_data"
   ]
  },
  {
   "cell_type": "markdown",
   "id": "075a9651",
   "metadata": {},
   "source": [
    "# or p.DIRECT for nongraphical version\n",
    "# or p.setGravity (0, 0, -10)"
   ]
  },
  {
   "cell_type": "code",
   "execution_count": 3,
   "id": "fcb4c86a",
   "metadata": {},
   "outputs": [
    {
     "ename": "error",
     "evalue": "Only one local in-process GUI/GUI_SERVER connection allowed. Use DIRECT connection mode or start a separate GUI physics server (ExampleBrowser, App_SharedMemoryPhysics_GUI, App_SharedMemoryPhysics_VR) and connect over SHARED_MEMORY, UDP or TCP instead.",
     "output_type": "error",
     "traceback": [
      "\u001b[31m---------------------------------------------------------------------------\u001b[39m",
      "\u001b[31merror\u001b[39m                                     Traceback (most recent call last)",
      "\u001b[36mCell\u001b[39m\u001b[36m \u001b[39m\u001b[32mIn[3]\u001b[39m\u001b[32m, line 1\u001b[39m\n\u001b[32m----> \u001b[39m\u001b[32m1\u001b[39m physicsClient = \u001b[43mp\u001b[49m\u001b[43m.\u001b[49m\u001b[43mconnect\u001b[49m\u001b[43m(\u001b[49m\u001b[43mp\u001b[49m\u001b[43m.\u001b[49m\u001b[43mGUI\u001b[49m\u001b[43m)\u001b[49m \n\u001b[32m      2\u001b[39m p.setAdditionalSearchPath(pybullet_data.getDataPath())\n\u001b[32m      3\u001b[39m p.setGravity(\u001b[32m0\u001b[39m, \u001b[32m0\u001b[39m, -\u001b[32m10\u001b[39m)\n",
      "\u001b[31merror\u001b[39m: Only one local in-process GUI/GUI_SERVER connection allowed. Use DIRECT connection mode or start a separate GUI physics server (ExampleBrowser, App_SharedMemoryPhysics_GUI, App_SharedMemoryPhysics_VR) and connect over SHARED_MEMORY, UDP or TCP instead."
     ]
    }
   ],
   "source": [
    "physicsClient = p.connect(p.GUI) \n",
    "p.setAdditionalSearchPath(pybullet_data.getDataPath())\n",
    "p.setGravity(0, 0, -10)\n",
    "planeId = p.loadURDF(\"plane.urdf\")\n",
    "startPos = [0, 0, 1]\n",
    "startOrientation = p.getQuaternionFromEuler([0, 0, 0])\n",
    "boxId = p.loadURDF(\"r2d2.urdf\", startPos, startOrientation)\n",
    "\n",
    "p.resetBasePositionAndOrientation(boxId, startPos, startOrientation)\n",
    "\n",
    "for i in range (10000):\n",
    "    p.stepSimulation()\n",
    "    time.sleep(1./240.)\n",
    "\n",
    "cubePos, cubeOrientation = p.getBasePositionAndOrientation(boxId)\n",
    "print(cubePos, cubeOrientation)\n",
    "p.disconnect()"
   ]
  },
  {
   "cell_type": "code",
   "execution_count": null,
   "id": "bda0e857",
   "metadata": {},
   "outputs": [],
   "source": []
  }
 ],
 "metadata": {
  "kernelspec": {
   "display_name": "venv",
   "language": "python",
   "name": "python3"
  },
  "language_info": {
   "codemirror_mode": {
    "name": "ipython",
    "version": 3
   },
   "file_extension": ".py",
   "mimetype": "text/x-python",
   "name": "python",
   "nbconvert_exporter": "python",
   "pygments_lexer": "ipython3",
   "version": "3.12.10"
  }
 },
 "nbformat": 4,
 "nbformat_minor": 5
}
